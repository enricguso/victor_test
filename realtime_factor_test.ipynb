{
 "cells": [
  {
   "cell_type": "code",
   "execution_count": 1,
   "id": "df319871",
   "metadata": {},
   "outputs": [],
   "source": [
    "import torch"
   ]
  },
  {
   "cell_type": "code",
   "execution_count": 2,
   "id": "81452b15",
   "metadata": {},
   "outputs": [],
   "source": [
    "from sudo_rm_rf.dnn.models import causal_improved_sudormrf_v3"
   ]
  },
  {
   "cell_type": "code",
   "execution_count": 3,
   "id": "d754bac9",
   "metadata": {},
   "outputs": [],
   "source": [
    "import soundfile as sf"
   ]
  },
  {
   "cell_type": "code",
   "execution_count": 4,
   "id": "65934c7d",
   "metadata": {},
   "outputs": [],
   "source": [
    "from os.path import join as pjoin"
   ]
  },
  {
   "cell_type": "code",
   "execution_count": 5,
   "id": "c2e2466d",
   "metadata": {},
   "outputs": [],
   "source": [
    "import time as t"
   ]
  },
  {
   "cell_type": "code",
   "execution_count": 6,
   "id": "9adb7004",
   "metadata": {},
   "outputs": [],
   "source": [
    "import sudo_rm_rf.dnn.losses.sisdr as sisdr_lib"
   ]
  },
  {
   "cell_type": "code",
   "execution_count": 7,
   "id": "c92efaa4",
   "metadata": {},
   "outputs": [],
   "source": [
    "import numpy as np"
   ]
  },
  {
   "cell_type": "code",
   "execution_count": 8,
   "id": "fac1a89a",
   "metadata": {},
   "outputs": [],
   "source": [
    "import tqdm"
   ]
  },
  {
   "cell_type": "code",
   "execution_count": 32,
   "id": "e268f129",
   "metadata": {},
   "outputs": [],
   "source": [
    "import matplotlib.pyplot as plt"
   ]
  },
  {
   "cell_type": "code",
   "execution_count": 9,
   "id": "d46f11c5",
   "metadata": {},
   "outputs": [],
   "source": [
    "# Function that loads the multi-GPU saved SudorRMRF_causal_v3 weights for CPU inference\n",
    "def load_sudormrf_causal_cpu(model_path):\n",
    "    model = causal_improved_sudormrf_v3.CausalSuDORMRF(\n",
    "        in_audio_channels=1,\n",
    "        out_channels=512,\n",
    "        in_channels=256,\n",
    "        num_blocks=16,\n",
    "        upsampling_depth=5,\n",
    "        enc_kernel_size=21,\n",
    "        enc_num_basis=512,\n",
    "        num_sources=2,\n",
    "        )\n",
    "    model = torch.nn.DataParallel(model)\n",
    "    model.load_state_dict(torch.load(model_path))\n",
    "    device = torch.device(\"cpu\")\n",
    "    model = model.module.to(device)    \n",
    "    model.eval()\n",
    "    return model"
   ]
  },
  {
   "cell_type": "code",
   "execution_count": 10,
   "id": "1911b8c7",
   "metadata": {},
   "outputs": [],
   "source": [
    "fs = 16000"
   ]
  },
  {
   "cell_type": "code",
   "execution_count": 11,
   "id": "2c374728",
   "metadata": {},
   "outputs": [],
   "source": [
    "models_dir = pjoin(pjoin(pjoin('sudo_rm_rf', 'dnn'), 'experiments'), 'checkpoints')\n",
    "model_path = pjoin(pjoin(models_dir, 'e14_sudo_whamr_16k_sepnoisy_augment'), 'causal_sudo_epoch_100.pt')\n",
    "model = load_sudormrf_causal_cpu(model_path)"
   ]
  },
  {
   "cell_type": "code",
   "execution_count": 12,
   "id": "0694d1bd",
   "metadata": {},
   "outputs": [],
   "source": [
    "#now load an audio file and run inference..."
   ]
  },
  {
   "cell_type": "code",
   "execution_count": 13,
   "id": "937b9ff7",
   "metadata": {},
   "outputs": [],
   "source": [
    "whamr_path = pjoin(pjoin(pjoin(pjoin('/media', 'enricguso'), 'datasets'), 'Data'), 'whamr')#/wav16k/min/tt'\n",
    "fs_path = pjoin(whamr_path, 'wav16k')\n",
    "mode_path = pjoin(fs_path, 'min')\n",
    "tt_path = pjoin(mode_path, 'tt')\n",
    "\n",
    "mixture_name = '22ga010d_1.5482_052o020t_-1.5482.wav'\n",
    "s1_path = pjoin(pjoin(tt_path, 's1_anechoic'), mixture_name)\n",
    "s2_path = pjoin(pjoin(tt_path, 's2_anechoic'), mixture_name)\n",
    "noise_path = pjoin(pjoin(tt_path, 'noise'), mixture_name)"
   ]
  },
  {
   "cell_type": "code",
   "execution_count": 14,
   "id": "27f5f5db",
   "metadata": {},
   "outputs": [],
   "source": [
    "s1, _ = sf.read(s1_path)\n",
    "s2, _ = sf.read(s2_path)\n",
    "noise, _ = sf.read(noise_path)"
   ]
  },
  {
   "cell_type": "code",
   "execution_count": 15,
   "id": "0c2129a4",
   "metadata": {},
   "outputs": [],
   "source": [
    "mixture = s1 + s2 + noise"
   ]
  },
  {
   "cell_type": "code",
   "execution_count": 16,
   "id": "90c91822",
   "metadata": {},
   "outputs": [],
   "source": [
    "mixture = torch.tensor(mixture, dtype=torch.float32)"
   ]
  },
  {
   "cell_type": "code",
   "execution_count": 17,
   "id": "1f3fa883",
   "metadata": {},
   "outputs": [],
   "source": [
    "audio_length = len(mixture) / fs"
   ]
  },
  {
   "cell_type": "code",
   "execution_count": 18,
   "id": "76520fa0",
   "metadata": {},
   "outputs": [],
   "source": [
    "loss = sisdr_lib.PITLossWrapper(sisdr_lib.PairwiseNegSDR(\"sisdr\"),\n",
    "                         pit_from='pw_mtx')"
   ]
  },
  {
   "cell_type": "code",
   "execution_count": 19,
   "id": "8a6afce6",
   "metadata": {},
   "outputs": [],
   "source": [
    "targets = torch.tensor(np.array([s1, s2]), dtype=torch.float32)"
   ]
  },
  {
   "cell_type": "code",
   "execution_count": 21,
   "id": "78589a93",
   "metadata": {},
   "outputs": [],
   "source": [
    "# test how performance degrades when using short chunks"
   ]
  },
  {
   "cell_type": "code",
   "execution_count": 22,
   "id": "a8024aa0",
   "metadata": {},
   "outputs": [],
   "source": [
    "num_chunks = (np.linspace(1, 800, num=100)).astype('int').tolist()"
   ]
  },
  {
   "cell_type": "code",
   "execution_count": 23,
   "id": "d38e0199",
   "metadata": {},
   "outputs": [
    {
     "name": "stderr",
     "output_type": "stream",
     "text": [
      "100%|█████████████████████████████████████████| 100/100 [16:27<00:00,  9.87s/it]\n"
     ]
    }
   ],
   "source": [
    "times = []\n",
    "sisdrs = []\n",
    "chunk_sizes = []\n",
    "for chunks in tqdm.tqdm(num_chunks):\n",
    "    try:\n",
    "        if chunks == 1:\n",
    "            mix_list = [mixture]\n",
    "        else:\n",
    "            # split into simple chunks (rectangular window and no overlap), dropping the last one\n",
    "            mix_list = torch.split(mixture, len(mixture) // chunks)[0:-1]\n",
    "        chunk_sizes.append(len(mix_list[0]))\n",
    "        #targets_list = torch.split(targets, len(mixture) // chunks, dim=1)[0:-1]\n",
    "        # compute the audio\n",
    "        rec_sources = []\n",
    "        tic = t.time()\n",
    "        for m in mix_list:\n",
    "            rec_sources.append(model(m.unsqueeze(0).unsqueeze(1)).squeeze())\n",
    "        rec_sources = torch.cat(rec_sources, dim=1)\n",
    "        sisdrs.append(loss(rec_sources.unsqueeze(0), targets[:, :rec_sources.shape[1]].unsqueeze(0)).item())\n",
    "        tac = t.time()\n",
    "        times.append(tac - tic)\n",
    "    except:\n",
    "        times.append('nan')\n",
    "        sisdrs.append('nan')\n",
    "        chunk_sizes('nan')"
   ]
  },
  {
   "cell_type": "code",
   "execution_count": 26,
   "id": "878a1c1e",
   "metadata": {},
   "outputs": [],
   "source": [
    "ms_sizes = [x*1000 / fs for x in chunk_sizes]"
   ]
  },
  {
   "cell_type": "code",
   "execution_count": 28,
   "id": "ef100e07",
   "metadata": {},
   "outputs": [],
   "source": [
    "results = {'times' : times, 'sisdrs' : sisdrs, 'ms_sizes' : ms_sizes}"
   ]
  },
  {
   "cell_type": "code",
   "execution_count": 30,
   "id": "f66e522a",
   "metadata": {},
   "outputs": [],
   "source": [
    "np.save('realtime_factor_test.npy', results)"
   ]
  },
  {
   "cell_type": "code",
   "execution_count": 66,
   "id": "68475dae",
   "metadata": {},
   "outputs": [
    {
     "data": {
      "text/plain": [
       "5.46"
      ]
     },
     "execution_count": 66,
     "metadata": {},
     "output_type": "execute_result"
    }
   ],
   "source": [
    "len(mixture)/fs"
   ]
  },
  {
   "cell_type": "code",
   "execution_count": 67,
   "id": "7660cc27",
   "metadata": {},
   "outputs": [],
   "source": [
    "realtime_factor = [x/(len(mixture)/fs) for x in times]"
   ]
  },
  {
   "cell_type": "code",
   "execution_count": 68,
   "id": "4f51e7d4",
   "metadata": {},
   "outputs": [
    {
     "data": {
      "image/png": "[encoded data removed]",
      "text/plain": [
       "<Figure size 640x480 with 3 Axes>"
      ]
     },
     "metadata": {},
     "output_type": "display_data"
    }
   ],
   "source": [
    "plt.subplot(3,1,1)\n",
    "plt.semilogx(ms_sizes, sisdrs)\n",
    "\n",
    "plt.ylabel('SISDR')\n",
    "plt.xlabel('window size [ms]')\n",
    "plt.tight_layout()\n",
    "plt.grid(True)\n",
    "\n",
    "plt.subplot(3,1,2)\n",
    "plt.semilogx(ms_sizes, times)\n",
    "plt.ylabel('Computation time [s]')\n",
    "plt.xlabel('window size [ms]')\n",
    "plt.tight_layout()\n",
    "plt.grid(True)\n",
    "\n",
    "plt.subplot(3,1,3)\n",
    "plt.semilogx(ms_sizes, realtime_factor)\n",
    "plt.ylabel('realtime factor')\n",
    "plt.xlabel('window size [ms]')\n",
    "plt.tight_layout()\n",
    "plt.grid(True)"
   ]
  },
  {
   "cell_type": "code",
   "execution_count": null,
   "id": "787c55ae",
   "metadata": {},
   "outputs": [],
   "source": []
  }
 ],
 "metadata": {
  "kernelspec": {
   "display_name": "sudo_rm_rf",
   "language": "python",
   "name": "sudo_rm_rf"
  },
  "language_info": {
   "codemirror_mode": {
    "name": "ipython",
    "version": 3
   },
   "file_extension": ".py",
   "mimetype": "text/x-python",
   "name": "python",
   "nbconvert_exporter": "python",
   "pygments_lexer": "ipython3",
   "version": "3.10.6"
  }
 },
 "nbformat": 4,
 "nbformat_minor": 5
}
