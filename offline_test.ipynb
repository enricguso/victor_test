{
 "cells": [
  {
   "cell_type": "code",
   "execution_count": null,
   "id": "df319871",
   "metadata": {},
   "outputs": [],
   "source": [
    "import torch\n",
    "import torchaudio\n",
    "from IPython.display import Audio\n",
    "import causal_improved_sudormrf_v3\n",
    "import time as t\n",
    "import numpy as np\n",
    "import matplotlib.pyplot as plt"
   ]
  },
  {
   "cell_type": "code",
   "execution_count": null,
   "id": "d46f11c5",
   "metadata": {},
   "outputs": [],
   "source": [
    "# Function that loads the multi-GPU saved SudorRMRF_causal_v3 weights for CPU inference\n",
    "def load_sudormrf_causal_cpu(model_path):\n",
    "    # 1: declarem el model (instanciem la classe)\n",
    "    model = causal_improved_sudormrf_v3.CausalSuDORMRF(\n",
    "        in_audio_channels=1,\n",
    "        out_channels=512,\n",
    "        in_channels=256,\n",
    "        num_blocks=16,\n",
    "        upsampling_depth=5,\n",
    "        enc_kernel_size=21,\n",
    "        enc_num_basis=512,\n",
    "        num_sources=1,\n",
    "        )\n",
    "    # 2: el passem a DataParallel perquè es va guardar com un DataParallel\n",
    "    model = torch.nn.DataParallel(model)\n",
    "    # 3: carreguem els pesos\n",
    "    model.load_state_dict(torch.load(model_path))\n",
    "    # 4: El pasem a GPU. Tu podries provar torch.device(\"mps\") que seria la teva GPU\n",
    "    device = torch.device(\"cpu\")\n",
    "    model = model.module.to(device)\n",
    "    # 5: posem en mode Evaluació (es desactiva dropout i coses així)\n",
    "    model.eval()\n",
    "    return model"
   ]
  },
  {
   "cell_type": "code",
   "execution_count": null,
   "id": "2c374728",
   "metadata": {},
   "outputs": [],
   "source": [
    "model_path = 'e39_sudo_whamr_16k_enhnoisy_augment.pt'\n",
    "model = load_sudormrf_causal_cpu(model_path)"
   ]
  },
  {
   "cell_type": "code",
   "execution_count": null,
   "id": "0694d1bd",
   "metadata": {},
   "outputs": [],
   "source": [
    "# carreguem speech i noise, fem una mixture:\n",
    "speech, fs = torchaudio.load('speech.wav')\n",
    "noise, fs = torchaudio.load('noise.wav')\n",
    "mixture = speech + noise\n",
    "mixture /= torch.max(torch.abs(mixture))\n",
    "plt.plot(mixture.numpy()[0])"
   ]
  },
  {
   "cell_type": "code",
   "execution_count": null,
   "id": "418accbf",
   "metadata": {},
   "outputs": [],
   "source": [
    "# guardem l'energia de la mixture per poder normalitzar la sortida del model\n",
    "ini_nrg = torch.sum(mixture ** 2)"
   ]
  },
  {
   "cell_type": "code",
   "execution_count": null,
   "id": "bef52f98",
   "metadata": {},
   "outputs": [],
   "source": [
    "Audio(mixture.numpy(), rate=fs)\n"
   ]
  },
  {
   "cell_type": "code",
   "execution_count": null,
   "id": "95d6f65f",
   "metadata": {},
   "outputs": [],
   "source": [
    "# standarditzem la mixture (normalitzacr)\n",
    "mixture = (mixture - torch.mean(mixture)) / torch.std(mixture)"
   ]
  },
  {
   "cell_type": "code",
   "execution_count": null,
   "id": "8173f2d0",
   "metadata": {},
   "outputs": [],
   "source": [
    "# apliquem el model\n",
    "denoised = model(mixture.unsqueeze(0)).detach()"
   ]
  },
  {
   "cell_type": "code",
   "execution_count": null,
   "id": "34a004d2",
   "metadata": {},
   "outputs": [],
   "source": [
    "# de-normalitzem\n",
    "denoised /= torch.sqrt(torch.sum(denoised ** 2) / ini_nrg)"
   ]
  },
  {
   "cell_type": "code",
   "execution_count": null,
   "id": "898a37ff",
   "metadata": {},
   "outputs": [],
   "source": [
    "Audio(denoised.numpy()[0,0], rate=fs)\n"
   ]
  },
  {
   "cell_type": "code",
   "execution_count": null,
   "id": "787c55ae",
   "metadata": {},
   "outputs": [],
   "source": [
    "# guardem el .wav\n",
    "torchaudio.save('denoised.wav', denoised[0], sample_rate=fs)"
   ]
  }
 ],
 "metadata": {
  "kernelspec": {
   "display_name": "sudo_rm_rf",
   "language": "python",
   "name": "sudo_rm_rf"
  },
  "language_info": {
   "codemirror_mode": {
    "name": "ipython",
    "version": 3
   },
   "file_extension": ".py",
   "mimetype": "text/x-python",
   "name": "python",
   "nbconvert_exporter": "python",
   "pygments_lexer": "ipython3",
   "version": "3.10.6"
  }
 },
 "nbformat": 4,
 "nbformat_minor": 5
}
